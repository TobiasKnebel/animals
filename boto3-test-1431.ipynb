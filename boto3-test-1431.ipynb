{
 "cells": [
  {
   "cell_type": "code",
   "execution_count": 148,
   "id": "db22fd5c",
   "metadata": {
    "scrolled": false
   },
   "outputs": [
    {
     "name": "stdout",
     "output_type": "stream",
     "text": [
      "bucket-139562467\n",
      "There are 1 buckets in the bucket_list.\n",
      "bucket-557109549\n",
      "There are 2 buckets in the bucket_list.\n",
      "bucket-518593456\n",
      "There are 3 buckets in the bucket_list.\n",
      "bucket-101596714\n",
      "There are 4 buckets in the bucket_list.\n",
      "bucket-717507634\n",
      "There are 5 buckets in the bucket_list.\n",
      "bucket-579258673\n",
      "There are 6 buckets in the bucket_list.\n",
      "bucket-655853924\n",
      "There are 7 buckets in the bucket_list.\n",
      "bucket-627527145\n",
      "There are 8 buckets in the bucket_list.\n",
      "bucket-244181058\n",
      "There are 9 buckets in the bucket_list.\n",
      "bucket-431596518\n",
      "There are 10 buckets in the bucket_list.\n",
      "bucket-191608515\n",
      "There are 11 buckets in the bucket_list.\n",
      "bucket-141527323\n",
      "There are 12 buckets in the bucket_list.\n",
      "bucket-417888458\n",
      "There are 13 buckets in the bucket_list.\n",
      "bucket-874705238\n",
      "There are 14 buckets in the bucket_list.\n",
      "bucket-430413915\n",
      "There are 15 buckets in the bucket_list.\n",
      "bucket-111609764\n",
      "There are 16 buckets in the bucket_list.\n",
      "bucket-111754319\n",
      "There are 17 buckets in the bucket_list.\n",
      "bucket-632765925\n",
      "There are 18 buckets in the bucket_list.\n",
      "bucket-428556875\n",
      "There are 19 buckets in the bucket_list.\n",
      "bucket-656612998\n",
      "There are 20 buckets in the bucket_list.\n"
     ]
    }
   ],
   "source": [
    "import boto3\n",
    "import random\n",
    "\n",
    "bucket_list = []\n",
    "number_of_buckets = 20\n",
    "counter = 0\n",
    "\n",
    "for x in range(0,number_of_buckets):\n",
    "    bucket = boto3.resource('s3')\n",
    "    response = bucket.create_bucket(Bucket=\"bucket-\"+str(random.randint(100000000,900000000)),ACL=\"private\")\n",
    "    bucket_name = boto3.client('s3').list_buckets()['Buckets'][-1]['Name']\n",
    "    print(bucket_name)\n",
    "    bucket_list.append(bucket_name)\n",
    "    print(\"There are \" + str(len(bucket_list)) + \" buckets in the bucket_list.\")\n",
    "    boto3.resource('s3').Bucket(str(bucket_name)).delete()"
   ]
  },
  {
   "cell_type": "code",
   "execution_count": null,
   "id": "8159039f",
   "metadata": {},
   "outputs": [],
   "source": []
  }
 ],
 "metadata": {
  "kernelspec": {
   "display_name": "Python 3 (ipykernel)",
   "language": "python",
   "name": "python3"
  },
  "language_info": {
   "codemirror_mode": {
    "name": "ipython",
    "version": 3
   },
   "file_extension": ".py",
   "mimetype": "text/x-python",
   "name": "python",
   "nbconvert_exporter": "python",
   "pygments_lexer": "ipython3",
   "version": "3.10.9"
  }
 },
 "nbformat": 4,
 "nbformat_minor": 5
}
